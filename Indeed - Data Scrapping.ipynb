{
 "cells": [
  {
   "cell_type": "markdown",
   "metadata": {},
   "source": [
    "## Data Scrapping - Indeed"
   ]
  },
  {
   "cell_type": "code",
   "execution_count": 136,
   "metadata": {},
   "outputs": [],
   "source": [
    "#Initializing Selenium, time, csv and pandas\n",
    "from selenium import webdriver\n",
    "from selenium.webdriver.common.by import By\n",
    "from selenium.webdriver.support.ui import WebDriverWait\n",
    "from selenium.webdriver.common.keys import Keys\n",
    "from selenium.webdriver.support import expected_conditions as EC\n",
    "import time\n",
    "import csv\n",
    "import pandas as pd\n"
   ]
  },
  {
   "cell_type": "markdown",
   "metadata": {},
   "source": [
    "## Invoke Chrome browser"
   ]
  },
  {
   "cell_type": "code",
   "execution_count": 138,
   "metadata": {},
   "outputs": [],
   "source": [
    "#Invoke chrome browser and launch it \n",
    "locationOfWebdriver = \"chromedriver.exe\"\n",
    "driver = webdriver.Chrome(locationOfWebdriver)\n",
    "#driver.maximize_window()"
   ]
  },
  {
   "cell_type": "markdown",
   "metadata": {},
   "source": [
    "## Created reusuable functions to retrieve data "
   ]
  },
  {
   "cell_type": "code",
   "execution_count": 140,
   "metadata": {},
   "outputs": [],
   "source": [
    "# getTitle funtion will retrieve job titles from a page\n",
    "def getTitle():\n",
    "    for i in range(4,24,2):\n",
    "        title = driver.find_element_by_xpath(\"/html/body/table[2]/tbody/tr/td/table/tbody/tr/td[2]/div[\"+str(i)+\"]/div[1]/a\")\n",
    "        jobTitle.append(title.text)\n",
    "\n",
    "# getLocation function will retrieve job Location from a page\n",
    "def getLocation():\n",
    "    for j in range(4,24,2):\n",
    "        location = driver.find_element_by_xpath(\"/html/body/table[2]/tbody/tr/td/table/tbody/tr/td[2]/div[\"+str(j)+\"]/div[2]/span\")\n",
    "        jobLocation.append(location.text)\n",
    "\n",
    "# getSummary function will retrieve job summary from a page\n",
    "def getSummary():\n",
    "    for l in range(4,24,2):\n",
    "        summary = driver.find_element_by_xpath(\"/html/body/table[2]/tbody/tr/td/table/tbody/tr/td[2]/div[\"+str(l)+\"]/div[3]\")\n",
    "        jobSummary.append(summary.text)\n",
    "# getSalary function will retrieve job Salary from a page (if applicable)\n",
    "def getSalary():\n",
    "    for k in range(4,24,2):\n",
    "        sal = driver.find_element_by_xpath(\"/html/body/table[2]/tbody/tr/td/table/tbody/tr/td[2]/div[\"+str(k)+\"]/div[3]\").text\n",
    "        if(sal in \"salarySnippet \"):\n",
    "            salary = driver.find_element_by_xpath(\"/html/body/table[2]/tbody/tr/td/table/tbody/tr/td[2]/div[\"+str(k)+\"]/div[3]/span/span\")\n",
    "            jobSalary.append(salary.text)\n",
    "            summary = driver.find_element_by_xpath(\"/html/body/table[2]/tbody/tr/td/table/tbody/tr/td[2]/div[\"+str(k)+\"]/div[4]\")\n",
    "            jobSummary.append(summary.text)\n",
    "    \n",
    "    \n",
    "            \n",
    "            \n"
   ]
  },
  {
   "cell_type": "markdown",
   "metadata": {},
   "source": [
    "## Extract Job Title, Job Location, Job"
   ]
  },
  {
   "cell_type": "code",
   "execution_count": null,
   "metadata": {},
   "outputs": [],
   "source": [
    "# Initialize DataFrame variable for title, location, summary and salary\n",
    "jobTitle = []\n",
    "jobLocation = []\n",
    "jobSummary = []\n",
    "jobSalary = []\n",
    "\n",
    "#Indeed url to launch\n",
    "url = \"https://www.indeed.com/stc?_ga=2.36164704.1190323793.1570128998-2118536492.1570128998\"\n",
    "driver.get(url)\n",
    "\n",
    "#Enter input value for job role\n",
    "role = driver.find_element_by_id(\"text-input-what\")\n",
    "role.send_keys(\"Product Manager\")\n",
    "driver.implicitly_wait(3)\n",
    "\n",
    "#Enter input value for job location\n",
    "location = driver.find_element_by_id(\"text-input-where\")\n",
    "location.send_keys(\"San Francisco, CA\")\n",
    "driver.implicitly_wait(3)\n",
    "\n",
    "#Click to find a job button\n",
    "search = driver.find_element_by_xpath(\"//*[@id='whatWhere']/div/div/form/div[3]/button\")\n",
    "search.click()\n",
    "driver.implicitly_wait(3)\n",
    "\n",
    "#Below functions to retrieve job details from indeed.com page\n",
    "getTitle()\n",
    "getLocation()\n",
    "getSummary()\n",
    "getSalary()\n",
    "\n",
    "#page navigation link to move next page\n",
    "nextLink = driver.find_element_by_xpath(\"//*[@id='resultsCol']/div[24]/a[1]\").click()\n",
    "temp=1\n",
    "\n",
    "# Below block of code will navigate page from 1 to 10 pages \n",
    "# we can customize by changing the end value in range function\n",
    "for p in range(10,100,10):\n",
    "    url= \"https://www.indeed.com/jobs?q=product+manager&l=San+Francisco%2C+CA&start=\"+str(p)\n",
    "    driver.get(url)\n",
    "    \n",
    "    #below functions will retrieve job details from indeed.com page\n",
    "    getTitle()\n",
    "    getLocation()\n",
    "    getSummary()\n",
    "    getSalary()\n",
    "    \n",
    "    #below link navigation to navigat pages one by one\n",
    "    linkNavigation = driver.find_element_by_xpath(\"//*[@id='resultsCol']/div[24]/a[\"+str(temp)+\"]\").click()\n",
    "    temp = temp + 1\n",
    "\n",
    "# indeedjobs variable to store job title, job location and job summary in one data frame\n",
    "indeedJobs = pd.DataFrame({'Job Title':jobTitle, 'Job Location':jobLocation, 'Summary':jobSummary})\n",
    "\n",
    "# indeedSalary variable to store job salary in data frame\n",
    "indeedSalary = pd.DataFrame({'Salary':jobSalary})\n",
    "\n",
    "# indeedjobs variable to combine indeedjobs and indeedsalary values into one data frame\n",
    "indeedJobs = pd.concat([indeedJobs, indeedSalary], axis=1, ignore_index=True)\n",
    "\n",
    "# to print job details head values \n",
    "print(indeedJobs.head())\n",
    "\n",
    "\n"
   ]
  },
  {
   "cell_type": "code",
   "execution_count": null,
   "metadata": {},
   "outputs": [],
   "source": [
    "## The below script will export Job Details which we retrieved from indeed.com"
   ]
  },
  {
   "cell_type": "code",
   "execution_count": null,
   "metadata": {},
   "outputs": [],
   "source": [
    "indeedJobs.to_csv(\"PMscraping.csv\")"
   ]
  },
  {
   "cell_type": "code",
   "execution_count": null,
   "metadata": {},
   "outputs": [],
   "source": []
  }
 ],
 "metadata": {
  "kernelspec": {
   "display_name": "Python 3",
   "language": "python",
   "name": "python3"
  },
  "language_info": {
   "codemirror_mode": {
    "name": "ipython",
    "version": 3
   },
   "file_extension": ".py",
   "mimetype": "text/x-python",
   "name": "python",
   "nbconvert_exporter": "python",
   "pygments_lexer": "ipython3",
   "version": "3.7.4"
  }
 },
 "nbformat": 4,
 "nbformat_minor": 2
}
