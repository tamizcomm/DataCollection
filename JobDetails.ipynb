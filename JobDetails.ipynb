{
 "cells": [
  {
   "cell_type": "markdown",
   "metadata": {},
   "source": [
    "# Monstar Data Scrapping"
   ]
  },
  {
   "cell_type": "markdown",
   "metadata": {},
   "source": [
    "## Import Packages"
   ]
  },
  {
   "cell_type": "code",
   "execution_count": null,
   "metadata": {},
   "outputs": [],
   "source": [
    "# Importing selenium driver, time, os, csv and pandas\n",
    "from selenium import webdriver\n",
    "from selenium.webdriver.common.by import By\n",
    "from selenium.webdriver.support.ui import WebDriverWait\n",
    "from selenium.webdriver.common.keys import Keys\n",
    "from selenium.webdriver.support import expected_conditions as EC\n",
    "import time\n",
    "import os\n",
    "import csv\n",
    "import pandas as pd"
   ]
  },
  {
   "cell_type": "markdown",
   "metadata": {},
   "source": [
    "## Initiate Chrome Driver"
   ]
  },
  {
   "cell_type": "code",
   "execution_count": 169,
   "metadata": {},
   "outputs": [],
   "source": [
    "# Declear chromedriver and launch chrome browser\n",
    "locationOfWebdriver = \"chromedriver.exe\"\n",
    "driver = webdriver.Chrome(locationOfWebdriver)\n",
    "driver.maximize_window()"
   ]
  },
  {
   "cell_type": "markdown",
   "metadata": {},
   "source": [
    "### \"job_position\" function will pass company, industry as parameters "
   ]
  },
  {
   "cell_type": "code",
   "execution_count": 170,
   "metadata": {},
   "outputs": [],
   "source": [
    "def job_position(company, indus):\n",
    "    driver.get(\"https://www.monsterindia.com/\") #launch monsterindia url\n",
    "    driver.implicitly_wait(5)\n",
    "    \n",
    "    #advance search link\n",
    "    driver.find_element_by_xpath(\"//*[@id='hero-container']/div[2]/div/div[1]/div/div[2]/div/div[1]/a\").click()\n",
    "    driver.implicitly_wait(5)\n",
    "   \n",
    "    #enter compnay name\n",
    "    job = driver.find_element_by_xpath(\"//*[@id='adv_home_autocomplete']\")\n",
    "    job.send_keys(company)\n",
    "    driver.implicitly_wait(5)\n",
    "\n",
    "    #select hyderabad / secunderabad\n",
    "    driver.find_element_by_xpath(\"//*[@class='input adv_location_ac modal-ref-class']\").click()\n",
    "    driver.implicitly_wait(25)\n",
    "    location = driver.find_element_by_xpath(\"//*[@class='input adv_location_ac modal-ref-class']\")\n",
    "    location.send_keys(\"Hyderabad / Secunderabad, \")\n",
    "    driver.implicitly_wait(25)\n",
    "\n",
    "    #click on search button\n",
    "    driver.find_element_by_xpath(\"//*[@id='hero-container']/div[2]/div/div[1]/div/div[2]/div/div[1]/div/div/div[2]/form/div[5]/input\").click()\n",
    "    driver.implicitly_wait(25)\n",
    "\n",
    "    #click on industry in the left side panel \n",
    "    driver.find_element_by_xpath(\"//*[@id='bottom-top-fix']/div[1]/aside/div[2]/div[1]/div[9]/label\").click()\n",
    "    driver.implicitly_wait(35)\n",
    "\n",
    "    #select IT/Computers Softwares in industry section\n",
    "    driver.find_element_by_xpath(\"//*[@id='bottom-top-fix']/div[1]/aside/div[2]/div[1]/div[9]/div/div/div/div[1]/ul/li[1]/div/label[2]/span\").click()\n",
    "    driver.implicitly_wait(35)\n",
    "\n",
    "    #fetch total no. of job position available \n",
    "    total_position = driver.find_element_by_xpath(\"//*[@id='srp-main-container']/div[1]/div[1]/span\").text\n",
    "    total_position = total_position.split(\" - \")[1]\n",
    "    print(total_position)\n",
    "    positions.append(total_position)\n",
    "    \n",
    "    #retriving skills in each job position\n",
    "    for i in range(2,5):\n",
    "        sk = driver.find_element_by_xpath(\"//*[@id='srp-right-part']/div/div[1]/div[1]/div[3]/div/div[1]/div/div[1]/div/p[2]/span[\"+str(i)+\"]\").text\n",
    "        print(sk)\n",
    "        skills.append(sk)\n",
    "    for j in range(2,4):\n",
    "        sk = driver.find_element_by_xpath(\"//*[@id='srp-right-part']/div/div[1]/div[1]/div[3]/div/div[2]/div[1]/div[1]/div/p[2]/span[\"+str(j)+\"]\").text\n",
    "        print(sk)\n",
    "        skills.append(sk)\n",
    "    for k in range(2,5):\n",
    "        sk = driver.find_element_by_xpath(\"//*[@id='srp-right-part']/div/div[1]/div[1]/div[3]/div/div[3]/div/div[1]/div/p[2]/span[\"+str(k)+\"]\").text\n",
    "        print(sk)\n",
    "        skills.append(sk)\n",
    "    for l in range(2,4):\n",
    "        sk = driver.find_element_by_xpath(\"//*[@id='srp-right-part']/div/div[1]/div[1]/div[3]/div/div[4]/div/div[1]/div/p[2]/span[\"+str(l)+\"]\").text\n",
    "        print(sk)\n",
    "        skills.append(sk)\n",
    "    for m in range(2,5):\n",
    "        sk = driver.find_element_by_xpath(\"//*[@id='srp-right-part']/div/div[1]/div[1]/div[3]/div/div[6]/div/div[1]/div/p[2]/span[\"+str(m)+\"]\").text\n",
    "        print(sk)\n",
    "        skills.append(sk)\n",
    "    ncompany.append(company)\n",
    "    industry.append(indus)\n",
    "    print(ncompany,industry,positions,skills)"
   ]
  },
  {
   "cell_type": "markdown",
   "metadata": {},
   "source": [
    "### Passing Company name, Industry to get job details"
   ]
  },
  {
   "cell_type": "code",
   "execution_count": 171,
   "metadata": {},
   "outputs": [
    {
     "name": "stdout",
     "output_type": "stream",
     "text": [
      "116\n",
      "Google Adwords Process ,\n",
      "International Voice Process ,\n",
      "International Call Center ,\n",
      "Digital Marketing Manager ,\n",
      "Sem ,\n",
      "Google Big Query ,\n",
      "Cloud AutoML ,\n",
      "Data Analysis ,\n",
      "Twilio Frameworks ,\n",
      "\"Video\" ,\n",
      "android developer ,\n",
      "Restful Services ,\n",
      "Java ,\n",
      "['Google, '] ['IT/Computers Softwares'] ['116'] ['Google Adwords Process ,', 'International Voice Process ,', 'International Call Center ,', 'Digital Marketing Manager ,', 'Sem ,', 'Google Big Query ,', 'Cloud AutoML ,', 'Data Analysis ,', 'Twilio Frameworks ,', '\"Video\" ,', 'android developer ,', 'Restful Services ,', 'Java ,']\n",
      "29\n",
      "AWS ,\n",
      "Amazon Web Service ,\n",
      "S3 ,\n",
      "Asp.Net C# ,\n",
      "Angular Js ,\n",
      "AWS ,\n",
      "Amazon Web Service ,\n",
      "S3 ,\n",
      "Marketplace Specialist ,\n",
      "AWS ,\n",
      "\"Twilio Video\" ,\n",
      "\"Twilio Audio\" ,\n",
      "\"SMS Gateway\" ,\n",
      "['Google, ', 'Amazon, '] ['IT/Computers Softwares', 'IT/Computers Softwares'] ['116', '29'] ['Google Adwords Process ,', 'International Voice Process ,', 'International Call Center ,', 'Digital Marketing Manager ,', 'Sem ,', 'Google Big Query ,', 'Cloud AutoML ,', 'Data Analysis ,', 'Twilio Frameworks ,', '\"Video\" ,', 'android developer ,', 'Restful Services ,', 'Java ,', 'AWS ,', 'Amazon Web Service ,', 'S3 ,', 'Asp.Net C# ,', 'Angular Js ,', 'AWS ,', 'Amazon Web Service ,', 'S3 ,', 'Marketplace Specialist ,', 'AWS ,', '\"Twilio Video\" ,', '\"Twilio Audio\" ,', '\"SMS Gateway\" ,']\n",
      "75\n",
      "It Recruiter\n",
      "Technical ,\n",
      "Architecture ,\n",
      "Mdg ,\n",
      "data replication . ,\n",
      "business connect ,\n",
      "Tibco ,\n",
      "Edi\n",
      "Marketing ,\n",
      "Business Development ,\n",
      "Spark ,\n",
      "Python ,\n",
      "Java ,\n",
      "['Google, ', 'Amazon, ', 'LinkedIn, '] ['IT/Computers Softwares', 'IT/Computers Softwares', 'IT/Computers Softwares'] ['116', '29', '75'] ['Google Adwords Process ,', 'International Voice Process ,', 'International Call Center ,', 'Digital Marketing Manager ,', 'Sem ,', 'Google Big Query ,', 'Cloud AutoML ,', 'Data Analysis ,', 'Twilio Frameworks ,', '\"Video\" ,', 'android developer ,', 'Restful Services ,', 'Java ,', 'AWS ,', 'Amazon Web Service ,', 'S3 ,', 'Asp.Net C# ,', 'Angular Js ,', 'AWS ,', 'Amazon Web Service ,', 'S3 ,', 'Marketplace Specialist ,', 'AWS ,', '\"Twilio Video\" ,', '\"Twilio Audio\" ,', '\"SMS Gateway\" ,', 'It Recruiter', 'Technical ,', 'Architecture ,', 'Mdg ,', 'data replication . ,', 'business connect ,', 'Tibco ,', 'Edi', 'Marketing ,', 'Business Development ,', 'Spark ,', 'Python ,', 'Java ,']\n"
     ]
    }
   ],
   "source": [
    "ncompany =[]\n",
    "positions = []\n",
    "industry = []\n",
    "skills = []\n",
    "\n",
    "#passing company name and industry as parameters\n",
    "job_position(\"Google, \", \"IT/Computers Softwares\")\n",
    "driver.implicitly_wait(45)\n",
    "job_position(\"Amazon, \", \"IT/Computers Softwares\")\n",
    "driver.implicitly_wait(45)\n",
    "job_position(\"LinkedIn, \", \"IT/Computers Softwares\")\n",
    "driver.implicitly_wait(35)\n",
    "\n",
    "#we can call 'job_position' functiion as many times as we want "
   ]
  },
  {
   "cell_type": "code",
   "execution_count": 172,
   "metadata": {},
   "outputs": [],
   "source": [
    "#export to csv\n",
    "\n",
    "#jobDetails = pd.DataFrame({'Name of the Company':ncompany, 'No of Position':positions, 'Segmentation':industry, \"Skills\":skills})\n",
    "#jobDetails.to_csv(\"jobDetails.csv\")\n",
    "\n",
    "a = {'Name of the Company':ncompany, 'No of Position':positions, 'Segmentation':industry, \"Skills\":skills}\n",
    "df = pd.DataFrame.from_dict(a, orient='index')\n",
    "df.transpose()\n",
    "df.to_csv('JobDetails.csv', index=False, header=True, encoding='utf-8')\n",
    "\n"
   ]
  }
 ],
 "metadata": {
  "kernelspec": {
   "display_name": "Python 3",
   "language": "python",
   "name": "python3"
  },
  "language_info": {
   "codemirror_mode": {
    "name": "ipython",
    "version": 3
   },
   "file_extension": ".py",
   "mimetype": "text/x-python",
   "name": "python",
   "nbconvert_exporter": "python",
   "pygments_lexer": "ipython3",
   "version": "3.7.4"
  }
 },
 "nbformat": 4,
 "nbformat_minor": 2
}
